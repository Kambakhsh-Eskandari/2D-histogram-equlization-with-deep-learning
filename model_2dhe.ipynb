{
 "cells": [
  {
   "cell_type": "code",
   "execution_count": 1,
   "id": "c5211936-16fa-455b-a7fa-8a7f7a59f814",
   "metadata": {},
   "outputs": [
    {
     "name": "stderr",
     "output_type": "stream",
     "text": [
      "2022-11-09 02:20:45.191356: I tensorflow/stream_executor/platform/default/dso_loader.cc:49] Successfully opened dynamic library libcudart.so.10.1\n"
     ]
    }
   ],
   "source": [
    "import cv2\n",
    "\n",
    "import tensorflow as tf\n",
    "import os\n",
    "import random\n",
    "import numpy as np\n",
    "\n",
    "from tensorflow.keras import layers\n",
    "from tensorflow.keras.models import Model\n",
    "\n",
    "from tqdm import tqdm\n",
    "\n",
    "# from skimage.io import imread, imshow\n",
    "# from skimage.transform import resize\n",
    " \n",
    "import matplotlib.pyplot as plt\n",
    "\n",
    "import utils\n",
    "\n",
    "# from PIL import Image, ImageOps"
   ]
  },
  {
   "cell_type": "code",
   "execution_count": 2,
   "id": "00a79c16-bd86-4660-888c-d6274e124641",
   "metadata": {},
   "outputs": [
    {
     "name": "stderr",
     "output_type": "stream",
     "text": [
      "2022-10-19 18:31:38.078132: I tensorflow/core/platform/cpu_feature_guard.cc:142] This TensorFlow binary is optimized with oneAPI Deep Neural Network Library (oneDNN) to use the following CPU instructions in performance-critical operations:  SSE4.1 SSE4.2 AVX AVX2 FMA\n",
      "To enable them in other operations, rebuild TensorFlow with the appropriate compiler flags.\n",
      "2022-10-19 18:31:38.078532: I tensorflow/compiler/jit/xla_gpu_device.cc:99] Not creating XLA devices, tf_xla_enable_xla_devices not set\n",
      "2022-10-19 18:31:38.079102: I tensorflow/stream_executor/platform/default/dso_loader.cc:49] Successfully opened dynamic library libcuda.so.1\n",
      "2022-10-19 18:31:38.119605: I tensorflow/stream_executor/cuda/cuda_gpu_executor.cc:941] successful NUMA node read from SysFS had negative value (-1), but there must be at least one NUMA node, so returning NUMA node zero\n",
      "2022-10-19 18:31:38.119725: I tensorflow/core/common_runtime/gpu/gpu_device.cc:1720] Found device 0 with properties: \n",
      "pciBusID: 0000:01:00.0 name: NVIDIA GeForce GTX 1650 computeCapability: 7.5\n",
      "coreClock: 1.56GHz coreCount: 16 deviceMemorySize: 3.81GiB deviceMemoryBandwidth: 119.24GiB/s\n",
      "2022-10-19 18:31:38.119749: I tensorflow/stream_executor/platform/default/dso_loader.cc:49] Successfully opened dynamic library libcudart.so.10.1\n",
      "2022-10-19 18:31:38.121094: I tensorflow/stream_executor/platform/default/dso_loader.cc:49] Successfully opened dynamic library libcublas.so.10\n",
      "2022-10-19 18:31:38.121164: I tensorflow/stream_executor/platform/default/dso_loader.cc:49] Successfully opened dynamic library libcublasLt.so.10\n",
      "2022-10-19 18:31:38.122378: I tensorflow/stream_executor/platform/default/dso_loader.cc:49] Successfully opened dynamic library libcufft.so.10\n",
      "2022-10-19 18:31:38.122557: I tensorflow/stream_executor/platform/default/dso_loader.cc:49] Successfully opened dynamic library libcurand.so.10\n",
      "2022-10-19 18:31:38.123687: I tensorflow/stream_executor/platform/default/dso_loader.cc:49] Successfully opened dynamic library libcusolver.so.10\n",
      "2022-10-19 18:31:38.124330: I tensorflow/stream_executor/platform/default/dso_loader.cc:49] Successfully opened dynamic library libcusparse.so.10\n",
      "2022-10-19 18:31:38.126660: I tensorflow/stream_executor/platform/default/dso_loader.cc:49] Successfully opened dynamic library libcudnn.so.7\n",
      "2022-10-19 18:31:38.126771: I tensorflow/stream_executor/cuda/cuda_gpu_executor.cc:941] successful NUMA node read from SysFS had negative value (-1), but there must be at least one NUMA node, so returning NUMA node zero\n",
      "2022-10-19 18:31:38.126918: I tensorflow/stream_executor/cuda/cuda_gpu_executor.cc:941] successful NUMA node read from SysFS had negative value (-1), but there must be at least one NUMA node, so returning NUMA node zero\n",
      "2022-10-19 18:31:38.126995: I tensorflow/core/common_runtime/gpu/gpu_device.cc:1862] Adding visible gpu devices: 0\n",
      "2022-10-19 18:31:38.127029: I tensorflow/stream_executor/platform/default/dso_loader.cc:49] Successfully opened dynamic library libcudart.so.10.1\n",
      "2022-10-19 18:31:38.505811: I tensorflow/core/common_runtime/gpu/gpu_device.cc:1261] Device interconnect StreamExecutor with strength 1 edge matrix:\n",
      "2022-10-19 18:31:38.505833: I tensorflow/core/common_runtime/gpu/gpu_device.cc:1267]      0 \n",
      "2022-10-19 18:31:38.505839: I tensorflow/core/common_runtime/gpu/gpu_device.cc:1280] 0:   N \n",
      "2022-10-19 18:31:38.506046: I tensorflow/stream_executor/cuda/cuda_gpu_executor.cc:941] successful NUMA node read from SysFS had negative value (-1), but there must be at least one NUMA node, so returning NUMA node zero\n",
      "2022-10-19 18:31:38.506240: I tensorflow/stream_executor/cuda/cuda_gpu_executor.cc:941] successful NUMA node read from SysFS had negative value (-1), but there must be at least one NUMA node, so returning NUMA node zero\n",
      "2022-10-19 18:31:38.506364: I tensorflow/stream_executor/cuda/cuda_gpu_executor.cc:941] successful NUMA node read from SysFS had negative value (-1), but there must be at least one NUMA node, so returning NUMA node zero\n",
      "2022-10-19 18:31:38.506459: I tensorflow/core/common_runtime/gpu/gpu_device.cc:1406] Created TensorFlow device (/job:localhost/replica:0/task:0/device:GPU:0 with 2429 MB memory) -> physical GPU (device: 0, name: NVIDIA GeForce GTX 1650, pci bus id: 0000:01:00.0, compute capability: 7.5)\n"
     ]
    }
   ],
   "source": [
    "from tensorflow.compat.v1 import ConfigProto\n",
    "from tensorflow.compat.v1 import InteractiveSession\n",
    "\n",
    "config = ConfigProto()\n",
    "config.gpu_options.allow_growth = True\n",
    "session = InteractiveSession(config=config)"
   ]
  },
  {
   "cell_type": "code",
   "execution_count": 3,
   "id": "b1d14702-f2e3-4d8c-b9f5-0b808d7de1d1",
   "metadata": {},
   "outputs": [
    {
     "name": "stdout",
     "output_type": "stream",
     "text": [
      "Model: \"model\"\n",
      "_________________________________________________________________\n",
      "Layer (type)                 Output Shape              Param #   \n",
      "=================================================================\n",
      "input_1 (InputLayer)         [(None, 120, 120, 1)]     0         \n",
      "_________________________________________________________________\n",
      "lambda (Lambda)              (None, 120, 120, 1)       0         \n",
      "_________________________________________________________________\n",
      "conv2d (Conv2D)              (None, 120, 120, 16)      160       \n",
      "_________________________________________________________________\n",
      "batch_normalization (BatchNo (None, 120, 120, 16)      64        \n",
      "_________________________________________________________________\n",
      "re_lu (ReLU)                 (None, 120, 120, 16)      0         \n",
      "_________________________________________________________________\n",
      "max_pooling2d (MaxPooling2D) (None, 30, 30, 16)        0         \n",
      "_________________________________________________________________\n",
      "conv2d_1 (Conv2D)            (None, 30, 30, 32)        4640      \n",
      "_________________________________________________________________\n",
      "batch_normalization_1 (Batch (None, 30, 30, 32)        128       \n",
      "_________________________________________________________________\n",
      "re_lu_1 (ReLU)               (None, 30, 30, 32)        0         \n",
      "_________________________________________________________________\n",
      "max_pooling2d_1 (MaxPooling2 (None, 15, 15, 32)        0         \n",
      "_________________________________________________________________\n",
      "conv2d_2 (Conv2D)            (None, 15, 15, 64)        18496     \n",
      "_________________________________________________________________\n",
      "batch_normalization_2 (Batch (None, 15, 15, 64)        256       \n",
      "_________________________________________________________________\n",
      "re_lu_2 (ReLU)               (None, 15, 15, 64)        0         \n",
      "_________________________________________________________________\n",
      "average_pooling2d (AveragePo (None, 7, 7, 64)          0         \n",
      "_________________________________________________________________\n",
      "flatten (Flatten)            (None, 3136)              0         \n",
      "_________________________________________________________________\n",
      "dense (Dense)                (None, 256)               803072    \n",
      "_________________________________________________________________\n",
      "dense_1 (Dense)              (None, 256)               65792     \n",
      "=================================================================\n",
      "Total params: 892,608\n",
      "Trainable params: 892,384\n",
      "Non-trainable params: 224\n",
      "_________________________________________________________________\n"
     ]
    },
    {
     "name": "stderr",
     "output_type": "stream",
     "text": [
      "2022-10-19 18:32:34.390219: I tensorflow/compiler/jit/xla_cpu_device.cc:41] Not creating XLA devices, tf_xla_enable_xla_devices not set\n",
      "2022-10-19 18:32:34.390481: I tensorflow/stream_executor/cuda/cuda_gpu_executor.cc:941] successful NUMA node read from SysFS had negative value (-1), but there must be at least one NUMA node, so returning NUMA node zero\n",
      "2022-10-19 18:32:34.390886: I tensorflow/core/common_runtime/gpu/gpu_device.cc:1720] Found device 0 with properties: \n",
      "pciBusID: 0000:01:00.0 name: NVIDIA GeForce GTX 1650 computeCapability: 7.5\n",
      "coreClock: 1.56GHz coreCount: 16 deviceMemorySize: 3.81GiB deviceMemoryBandwidth: 119.24GiB/s\n",
      "2022-10-19 18:32:34.391147: I tensorflow/stream_executor/platform/default/dso_loader.cc:49] Successfully opened dynamic library libcudart.so.10.1\n",
      "2022-10-19 18:32:34.391190: I tensorflow/stream_executor/platform/default/dso_loader.cc:49] Successfully opened dynamic library libcublas.so.10\n",
      "2022-10-19 18:32:34.391214: I tensorflow/stream_executor/platform/default/dso_loader.cc:49] Successfully opened dynamic library libcublasLt.so.10\n",
      "2022-10-19 18:32:34.391269: I tensorflow/stream_executor/platform/default/dso_loader.cc:49] Successfully opened dynamic library libcufft.so.10\n",
      "2022-10-19 18:32:34.391312: I tensorflow/stream_executor/platform/default/dso_loader.cc:49] Successfully opened dynamic library libcurand.so.10\n",
      "2022-10-19 18:32:34.391355: I tensorflow/stream_executor/platform/default/dso_loader.cc:49] Successfully opened dynamic library libcusolver.so.10\n",
      "2022-10-19 18:32:34.391429: I tensorflow/stream_executor/platform/default/dso_loader.cc:49] Successfully opened dynamic library libcusparse.so.10\n",
      "2022-10-19 18:32:34.391466: I tensorflow/stream_executor/platform/default/dso_loader.cc:49] Successfully opened dynamic library libcudnn.so.7\n",
      "2022-10-19 18:32:34.391627: I tensorflow/stream_executor/cuda/cuda_gpu_executor.cc:941] successful NUMA node read from SysFS had negative value (-1), but there must be at least one NUMA node, so returning NUMA node zero\n",
      "2022-10-19 18:32:34.391807: I tensorflow/stream_executor/cuda/cuda_gpu_executor.cc:941] successful NUMA node read from SysFS had negative value (-1), but there must be at least one NUMA node, so returning NUMA node zero\n",
      "2022-10-19 18:32:34.391926: I tensorflow/core/common_runtime/gpu/gpu_device.cc:1862] Adding visible gpu devices: 0\n",
      "2022-10-19 18:32:34.392073: I tensorflow/compiler/jit/xla_gpu_device.cc:99] Not creating XLA devices, tf_xla_enable_xla_devices not set\n",
      "2022-10-19 18:32:34.392140: I tensorflow/stream_executor/cuda/cuda_gpu_executor.cc:941] successful NUMA node read from SysFS had negative value (-1), but there must be at least one NUMA node, so returning NUMA node zero\n",
      "2022-10-19 18:32:34.392267: I tensorflow/core/common_runtime/gpu/gpu_device.cc:1720] Found device 0 with properties: \n",
      "pciBusID: 0000:01:00.0 name: NVIDIA GeForce GTX 1650 computeCapability: 7.5\n",
      "coreClock: 1.56GHz coreCount: 16 deviceMemorySize: 3.81GiB deviceMemoryBandwidth: 119.24GiB/s\n",
      "2022-10-19 18:32:34.392289: I tensorflow/stream_executor/platform/default/dso_loader.cc:49] Successfully opened dynamic library libcudart.so.10.1\n",
      "2022-10-19 18:32:34.392311: I tensorflow/stream_executor/platform/default/dso_loader.cc:49] Successfully opened dynamic library libcublas.so.10\n",
      "2022-10-19 18:32:34.392333: I tensorflow/stream_executor/platform/default/dso_loader.cc:49] Successfully opened dynamic library libcublasLt.so.10\n",
      "2022-10-19 18:32:34.392355: I tensorflow/stream_executor/platform/default/dso_loader.cc:49] Successfully opened dynamic library libcufft.so.10\n",
      "2022-10-19 18:32:34.392376: I tensorflow/stream_executor/platform/default/dso_loader.cc:49] Successfully opened dynamic library libcurand.so.10\n",
      "2022-10-19 18:32:34.392398: I tensorflow/stream_executor/platform/default/dso_loader.cc:49] Successfully opened dynamic library libcusolver.so.10\n",
      "2022-10-19 18:32:34.392419: I tensorflow/stream_executor/platform/default/dso_loader.cc:49] Successfully opened dynamic library libcusparse.so.10\n",
      "2022-10-19 18:32:34.392441: I tensorflow/stream_executor/platform/default/dso_loader.cc:49] Successfully opened dynamic library libcudnn.so.7\n",
      "2022-10-19 18:32:34.392493: I tensorflow/stream_executor/cuda/cuda_gpu_executor.cc:941] successful NUMA node read from SysFS had negative value (-1), but there must be at least one NUMA node, so returning NUMA node zero\n",
      "2022-10-19 18:32:34.392656: I tensorflow/stream_executor/cuda/cuda_gpu_executor.cc:941] successful NUMA node read from SysFS had negative value (-1), but there must be at least one NUMA node, so returning NUMA node zero\n",
      "2022-10-19 18:32:34.392787: I tensorflow/core/common_runtime/gpu/gpu_device.cc:1862] Adding visible gpu devices: 0\n",
      "2022-10-19 18:32:34.392811: I tensorflow/core/common_runtime/gpu/gpu_device.cc:1261] Device interconnect StreamExecutor with strength 1 edge matrix:\n",
      "2022-10-19 18:32:34.392817: I tensorflow/core/common_runtime/gpu/gpu_device.cc:1267]      0 \n",
      "2022-10-19 18:32:34.392821: I tensorflow/core/common_runtime/gpu/gpu_device.cc:1280] 0:   N \n",
      "2022-10-19 18:32:34.392904: I tensorflow/stream_executor/cuda/cuda_gpu_executor.cc:941] successful NUMA node read from SysFS had negative value (-1), but there must be at least one NUMA node, so returning NUMA node zero\n",
      "2022-10-19 18:32:34.393069: I tensorflow/stream_executor/cuda/cuda_gpu_executor.cc:941] successful NUMA node read from SysFS had negative value (-1), but there must be at least one NUMA node, so returning NUMA node zero\n",
      "2022-10-19 18:32:34.393196: I tensorflow/core/common_runtime/gpu/gpu_device.cc:1406] Created TensorFlow device (/job:localhost/replica:0/task:0/device:GPU:0 with 2429 MB memory) -> physical GPU (device: 0, name: NVIDIA GeForce GTX 1650, pci bus id: 0000:01:00.0, compute capability: 7.5)\n"
     ]
    }
   ],
   "source": [
    "IMG_WIDTH = 120\n",
    "IMG_HEIGHT = 120\n",
    "IMG_CHANNELS = 1\n",
    "\n",
    "input = layers.Input(((IMG_WIDTH,IMG_HEIGHT,IMG_CHANNELS)))\n",
    "normalize = layers.Lambda(lambda x: x/ 255)(input)\n",
    "\n",
    "## first layer\n",
    "c1 = layers.Conv2D(16, (3,3), padding='same')(normalize)\n",
    "b1 = layers.BatchNormalization()(c1)\n",
    "r1 = layers.ReLU()(b1)\n",
    "p1 = layers.MaxPooling2D(pool_size=(4,4), strides=(4,4))(r1)\n",
    "\n",
    "## second layer\n",
    "c2 = layers.Conv2D(32, (3,3), padding='same')(p1)\n",
    "b2 = layers.BatchNormalization()(c2)\n",
    "r2 = layers.ReLU()(b2)\n",
    "p2 = layers.MaxPooling2D(pool_size=(2,2), strides=(2,2))(r2)\n",
    "\n",
    "## third layer\n",
    "c3 = layers.Conv2D(64, (3,3), padding='same')(p2)\n",
    "b3 = layers.BatchNormalization()(c3)\n",
    "r3 = layers.ReLU()(b3)\n",
    "p3 = layers.AveragePooling2D(pool_size=(2,2), strides=(2,2))(r3)\n",
    "\n",
    "## flatten layer\n",
    "flatten = layers.Flatten()(p3)\n",
    "\n",
    "## FCLs\n",
    "fc1 = layers.Dense(256, activation = 'relu')(flatten)\n",
    "fc2 = layers.Dense(256)(fc1)\n",
    "\n",
    "model = Model(inputs=input, outputs = fc2)\n",
    "\n",
    "\n",
    "\n",
    "\n",
    "model.summary()"
   ]
  },
  {
   "cell_type": "code",
   "execution_count": 19,
   "id": "09c6beed-c1fe-4224-8985-4de38bae4cf0",
   "metadata": {},
   "outputs": [],
   "source": [
    "IMG_SIZE = 120\n",
    "\n",
    "def load_images_from_folder(folder):\n",
    "    x = []\n",
    "    y = []\n",
    "    for filename in tqdm(os.listdir(folder)):\n",
    "        image = cv2.imread(os.path.join(folder,filename), cv2.IMREAD_GRAYSCALE)\n",
    "        image = cv2.resize(image, (IMG_SIZE,IMG_SIZE))\n",
    "        \n",
    "        _2dh = utils.im2dhist(image, w_neighboring=3)\n",
    "        \n",
    "        V_hist = utils.imhist(image)\n",
    "        CDFx = np.cumsum(np.sum(_2dh, axis=0)) # Kx1\n",
    "\n",
    "        # normalizes CDFx\n",
    "        CDFxn = (255*CDFx/CDFx[-1])\n",
    "\n",
    "        PDFxn = np.zeros_like(CDFxn)\n",
    "        PDFxn[0] = CDFxn[0]\n",
    "        PDFxn[1:] = np.diff(CDFxn)\n",
    "\n",
    "        X_transform = np.zeros((256))\n",
    "        X_transform[np.where(V_hist > 0)] = PDFxn.copy()\n",
    "        CDFxn_transform = np.cumsum(X_transform)\n",
    "        \n",
    "        \n",
    "        x.append(image)\n",
    "        y.append(CDFxn_transform)\n",
    "            \n",
    "    return x,y"
   ]
  },
  {
   "cell_type": "code",
   "execution_count": 20,
   "id": "8b396d62-2cdc-4637-86af-383d94d2fe6f",
   "metadata": {},
   "outputs": [
    {
     "name": "stderr",
     "output_type": "stream",
     "text": [
      "100%|██████████████████████████████████████████████| 6899/6899 [5:07:19<00:00,  2.67s/it]\n"
     ]
    }
   ],
   "source": [
    "X,Y = load_images_from_folder('natural_images/')"
   ]
  },
  {
   "cell_type": "code",
   "execution_count": 21,
   "id": "85e852a0-4256-4573-b411-25b6b427e7b5",
   "metadata": {},
   "outputs": [],
   "source": [
    "x = np.array(X)\n",
    "y = np.array(Y, np.float64)"
   ]
  },
  {
   "cell_type": "code",
   "execution_count": 22,
   "id": "5f4139ae-dc16-4d87-9902-cc7f67751f9a",
   "metadata": {},
   "outputs": [],
   "source": [
    "x = np.expand_dims(x, axis=3)"
   ]
  },
  {
   "cell_type": "code",
   "execution_count": 24,
   "id": "82aa6d60-1e68-4781-aa99-65622bb47404",
   "metadata": {},
   "outputs": [],
   "source": [
    "#compiling model\n",
    "model.compile(optimizer='adam', loss='mean_squared_error', metrics=['accuracy'])"
   ]
  },
  {
   "cell_type": "code",
   "execution_count": 25,
   "id": "bf48b866-7e4b-45e5-bdd0-620664b6a924",
   "metadata": {},
   "outputs": [
    {
     "name": "stderr",
     "output_type": "stream",
     "text": [
      "2022-10-20 00:05:04.658862: I tensorflow/compiler/mlir/mlir_graph_optimization_pass.cc:116] None of the MLIR optimization passes are enabled (registered 2)\n",
      "2022-10-20 00:05:04.678865: I tensorflow/core/platform/profile_utils/cpu_utils.cc:112] CPU Frequency: 2599990000 Hz\n"
     ]
    },
    {
     "name": "stdout",
     "output_type": "stream",
     "text": [
      "Epoch 1/100\n"
     ]
    },
    {
     "name": "stderr",
     "output_type": "stream",
     "text": [
      "2022-10-20 00:05:05.230734: I tensorflow/stream_executor/platform/default/dso_loader.cc:49] Successfully opened dynamic library libcublas.so.10\n",
      "2022-10-20 00:05:05.455063: I tensorflow/stream_executor/platform/default/dso_loader.cc:49] Successfully opened dynamic library libcudnn.so.7\n",
      "2022-10-20 00:05:06.432406: W tensorflow/stream_executor/gpu/asm_compiler.cc:63] Running ptxas --version returned 256\n",
      "2022-10-20 00:05:06.474299: W tensorflow/stream_executor/gpu/redzone_allocator.cc:314] Internal: ptxas exited with non-zero error code 256, output: \n",
      "Relying on driver to perform ptx compilation. \n",
      "Modify $PATH to customize ptxas location.\n",
      "This message will be only logged once.\n"
     ]
    },
    {
     "name": "stdout",
     "output_type": "stream",
     "text": [
      "216/216 [==============================] - 12s 27ms/step - loss: 7037.4511 - accuracy: 0.1443\n",
      "Epoch 2/100\n",
      "216/216 [==============================] - 3s 12ms/step - loss: 228.3851 - accuracy: 0.3055\n",
      "Epoch 3/100\n",
      "216/216 [==============================] - 3s 12ms/step - loss: 155.1255 - accuracy: 0.3337\n",
      "Epoch 4/100\n",
      "216/216 [==============================] - 2s 12ms/step - loss: 125.4316 - accuracy: 0.3422\n",
      "Epoch 5/100\n",
      "216/216 [==============================] - 3s 12ms/step - loss: 114.6622 - accuracy: 0.3708\n",
      "Epoch 6/100\n",
      "216/216 [==============================] - 3s 12ms/step - loss: 95.7852 - accuracy: 0.3612\n",
      "Epoch 7/100\n",
      "216/216 [==============================] - 3s 12ms/step - loss: 96.5532 - accuracy: 0.3360\n",
      "Epoch 8/100\n",
      "216/216 [==============================] - 3s 12ms/step - loss: 96.0667 - accuracy: 0.3462\n",
      "Epoch 9/100\n",
      "216/216 [==============================] - 3s 12ms/step - loss: 85.8654 - accuracy: 0.3459\n",
      "Epoch 10/100\n",
      "216/216 [==============================] - 3s 12ms/step - loss: 87.6398 - accuracy: 0.3587\n",
      "Epoch 11/100\n",
      "216/216 [==============================] - 3s 12ms/step - loss: 80.5544 - accuracy: 0.3487\n",
      "Epoch 12/100\n",
      "216/216 [==============================] - 3s 12ms/step - loss: 79.4978 - accuracy: 0.3438\n",
      "Epoch 13/100\n",
      "216/216 [==============================] - 3s 12ms/step - loss: 79.9731 - accuracy: 0.3327\n",
      "Epoch 14/100\n",
      "216/216 [==============================] - 3s 12ms/step - loss: 92.0091 - accuracy: 0.3355\n",
      "Epoch 15/100\n",
      "216/216 [==============================] - 3s 12ms/step - loss: 66.0901 - accuracy: 0.3414\n",
      "Epoch 16/100\n",
      "216/216 [==============================] - 3s 12ms/step - loss: 76.4441 - accuracy: 0.3303\n",
      "Epoch 17/100\n",
      "216/216 [==============================] - 3s 12ms/step - loss: 73.3226 - accuracy: 0.3395\n",
      "Epoch 18/100\n",
      "216/216 [==============================] - 3s 12ms/step - loss: 64.6597 - accuracy: 0.3378\n",
      "Epoch 19/100\n",
      "216/216 [==============================] - 3s 12ms/step - loss: 65.4622 - accuracy: 0.3335\n",
      "Epoch 20/100\n",
      "216/216 [==============================] - 3s 12ms/step - loss: 72.5444 - accuracy: 0.3298\n",
      "Epoch 21/100\n",
      "216/216 [==============================] - 3s 12ms/step - loss: 60.4899 - accuracy: 0.3298\n",
      "Epoch 22/100\n",
      "216/216 [==============================] - 3s 12ms/step - loss: 60.6904 - accuracy: 0.3298\n",
      "Epoch 23/100\n",
      "216/216 [==============================] - 3s 12ms/step - loss: 58.7439 - accuracy: 0.3345\n",
      "Epoch 24/100\n",
      "216/216 [==============================] - 2s 12ms/step - loss: 61.4640 - accuracy: 0.3488\n",
      "Epoch 25/100\n",
      "216/216 [==============================] - 3s 12ms/step - loss: 57.8958 - accuracy: 0.3384\n",
      "Epoch 26/100\n",
      "216/216 [==============================] - 3s 12ms/step - loss: 58.3332 - accuracy: 0.3376\n",
      "Epoch 27/100\n",
      "216/216 [==============================] - 3s 13ms/step - loss: 52.4205 - accuracy: 0.3404\n",
      "Epoch 28/100\n",
      "216/216 [==============================] - 3s 13ms/step - loss: 53.9695 - accuracy: 0.3390\n",
      "Epoch 29/100\n",
      "216/216 [==============================] - 3s 12ms/step - loss: 61.0410 - accuracy: 0.3319\n",
      "Epoch 30/100\n",
      "216/216 [==============================] - 3s 13ms/step - loss: 48.1284 - accuracy: 0.3443\n",
      "Epoch 31/100\n",
      "216/216 [==============================] - 3s 12ms/step - loss: 56.8813 - accuracy: 0.3384\n",
      "Epoch 32/100\n",
      "216/216 [==============================] - 3s 12ms/step - loss: 45.6272 - accuracy: 0.3519\n",
      "Epoch 33/100\n",
      "216/216 [==============================] - 3s 12ms/step - loss: 46.0408 - accuracy: 0.3495\n",
      "Epoch 34/100\n",
      "216/216 [==============================] - 3s 12ms/step - loss: 46.9290 - accuracy: 0.3320\n",
      "Epoch 35/100\n",
      "216/216 [==============================] - 3s 12ms/step - loss: 49.2090 - accuracy: 0.3421\n",
      "Epoch 36/100\n",
      "216/216 [==============================] - 3s 12ms/step - loss: 49.4191 - accuracy: 0.3528\n",
      "Epoch 37/100\n",
      "216/216 [==============================] - 3s 12ms/step - loss: 45.0953 - accuracy: 0.3379\n",
      "Epoch 38/100\n",
      "216/216 [==============================] - 2s 12ms/step - loss: 42.4499 - accuracy: 0.3420\n",
      "Epoch 39/100\n",
      "216/216 [==============================] - 3s 12ms/step - loss: 45.4160 - accuracy: 0.3481\n",
      "Epoch 40/100\n",
      "216/216 [==============================] - 3s 12ms/step - loss: 53.1786 - accuracy: 0.3470\n",
      "Epoch 41/100\n",
      "216/216 [==============================] - 3s 12ms/step - loss: 45.3918 - accuracy: 0.3537\n",
      "Epoch 42/100\n",
      "216/216 [==============================] - 3s 12ms/step - loss: 45.6625 - accuracy: 0.3412\n",
      "Epoch 43/100\n",
      "216/216 [==============================] - 3s 12ms/step - loss: 52.1034 - accuracy: 0.3430\n",
      "Epoch 44/100\n",
      "216/216 [==============================] - 2s 12ms/step - loss: 43.5188 - accuracy: 0.3508\n",
      "Epoch 45/100\n",
      "216/216 [==============================] - 2s 12ms/step - loss: 42.2003 - accuracy: 0.3338\n",
      "Epoch 46/100\n",
      "216/216 [==============================] - 3s 12ms/step - loss: 40.0400 - accuracy: 0.3454\n",
      "Epoch 47/100\n",
      "216/216 [==============================] - 2s 12ms/step - loss: 39.3238 - accuracy: 0.3524\n",
      "Epoch 48/100\n",
      "216/216 [==============================] - 3s 12ms/step - loss: 42.3659 - accuracy: 0.3431\n",
      "Epoch 49/100\n",
      "216/216 [==============================] - 3s 12ms/step - loss: 38.6856 - accuracy: 0.3516\n",
      "Epoch 50/100\n",
      "216/216 [==============================] - 3s 12ms/step - loss: 37.9994 - accuracy: 0.3346\n",
      "Epoch 51/100\n",
      "216/216 [==============================] - 3s 12ms/step - loss: 38.8933 - accuracy: 0.3480\n",
      "Epoch 52/100\n",
      "216/216 [==============================] - 3s 12ms/step - loss: 38.1418 - accuracy: 0.3549\n",
      "Epoch 53/100\n",
      "216/216 [==============================] - 3s 12ms/step - loss: 43.2658 - accuracy: 0.3413\n",
      "Epoch 54/100\n",
      "216/216 [==============================] - 3s 12ms/step - loss: 38.3212 - accuracy: 0.3390\n",
      "Epoch 55/100\n",
      "216/216 [==============================] - 3s 12ms/step - loss: 35.5627 - accuracy: 0.3435\n",
      "Epoch 56/100\n",
      "216/216 [==============================] - 3s 12ms/step - loss: 34.3586 - accuracy: 0.3571\n",
      "Epoch 57/100\n",
      "216/216 [==============================] - 3s 12ms/step - loss: 43.3702 - accuracy: 0.3506\n",
      "Epoch 58/100\n",
      "216/216 [==============================] - 3s 12ms/step - loss: 34.5555 - accuracy: 0.3508\n",
      "Epoch 59/100\n",
      "216/216 [==============================] - 3s 12ms/step - loss: 33.1647 - accuracy: 0.3415\n",
      "Epoch 60/100\n",
      "216/216 [==============================] - 3s 12ms/step - loss: 32.3102 - accuracy: 0.3408\n",
      "Epoch 61/100\n",
      "216/216 [==============================] - 3s 12ms/step - loss: 34.7396 - accuracy: 0.3412\n",
      "Epoch 62/100\n",
      "216/216 [==============================] - 3s 12ms/step - loss: 33.0398 - accuracy: 0.3503\n",
      "Epoch 63/100\n",
      "216/216 [==============================] - 3s 12ms/step - loss: 38.2073 - accuracy: 0.3483\n",
      "Epoch 64/100\n",
      "216/216 [==============================] - 3s 12ms/step - loss: 35.0272 - accuracy: 0.3469\n",
      "Epoch 65/100\n",
      "216/216 [==============================] - 3s 13ms/step - loss: 35.6299 - accuracy: 0.3522\n",
      "Epoch 66/100\n",
      "216/216 [==============================] - 3s 12ms/step - loss: 29.2767 - accuracy: 0.3428\n",
      "Epoch 67/100\n",
      "216/216 [==============================] - 3s 12ms/step - loss: 34.4083 - accuracy: 0.3509\n",
      "Epoch 68/100\n",
      "216/216 [==============================] - 3s 12ms/step - loss: 30.7860 - accuracy: 0.3430\n",
      "Epoch 69/100\n",
      "216/216 [==============================] - 3s 12ms/step - loss: 33.9737 - accuracy: 0.3371\n",
      "Epoch 70/100\n",
      "216/216 [==============================] - 3s 12ms/step - loss: 28.9250 - accuracy: 0.3312\n",
      "Epoch 71/100\n",
      "216/216 [==============================] - 3s 12ms/step - loss: 31.7848 - accuracy: 0.3528\n",
      "Epoch 72/100\n",
      "216/216 [==============================] - 3s 12ms/step - loss: 27.8922 - accuracy: 0.3368\n",
      "Epoch 73/100\n",
      "216/216 [==============================] - 3s 12ms/step - loss: 33.5861 - accuracy: 0.3493\n",
      "Epoch 74/100\n",
      "216/216 [==============================] - 3s 12ms/step - loss: 31.9469 - accuracy: 0.3500\n",
      "Epoch 75/100\n",
      "216/216 [==============================] - 3s 12ms/step - loss: 29.1114 - accuracy: 0.3518\n",
      "Epoch 76/100\n",
      "216/216 [==============================] - 3s 12ms/step - loss: 31.8999 - accuracy: 0.3405\n",
      "Epoch 77/100\n",
      "216/216 [==============================] - 3s 12ms/step - loss: 26.7247 - accuracy: 0.3444\n",
      "Epoch 78/100\n",
      "216/216 [==============================] - 3s 12ms/step - loss: 33.3670 - accuracy: 0.3435\n",
      "Epoch 79/100\n",
      "216/216 [==============================] - 3s 12ms/step - loss: 33.5084 - accuracy: 0.3516\n",
      "Epoch 80/100\n",
      "216/216 [==============================] - 3s 12ms/step - loss: 26.8960 - accuracy: 0.3489\n",
      "Epoch 81/100\n",
      "216/216 [==============================] - 3s 12ms/step - loss: 26.7647 - accuracy: 0.3450\n",
      "Epoch 82/100\n",
      "216/216 [==============================] - 3s 12ms/step - loss: 27.1056 - accuracy: 0.3549\n",
      "Epoch 83/100\n",
      "216/216 [==============================] - 3s 12ms/step - loss: 28.8172 - accuracy: 0.3467\n",
      "Epoch 84/100\n",
      "216/216 [==============================] - 3s 12ms/step - loss: 27.5431 - accuracy: 0.3374\n",
      "Epoch 85/100\n",
      "216/216 [==============================] - 3s 12ms/step - loss: 27.6720 - accuracy: 0.3545\n",
      "Epoch 86/100\n",
      "216/216 [==============================] - 3s 12ms/step - loss: 31.2336 - accuracy: 0.3359\n",
      "Epoch 87/100\n",
      "216/216 [==============================] - 3s 12ms/step - loss: 28.0873 - accuracy: 0.3387\n",
      "Epoch 88/100\n",
      "216/216 [==============================] - 3s 12ms/step - loss: 24.7385 - accuracy: 0.3574\n",
      "Epoch 89/100\n",
      "216/216 [==============================] - 3s 12ms/step - loss: 28.5733 - accuracy: 0.3510\n",
      "Epoch 90/100\n",
      "216/216 [==============================] - 3s 12ms/step - loss: 27.3445 - accuracy: 0.3467\n",
      "Epoch 91/100\n",
      "216/216 [==============================] - 3s 12ms/step - loss: 26.2562 - accuracy: 0.3554\n",
      "Epoch 92/100\n",
      "216/216 [==============================] - 3s 12ms/step - loss: 23.8559 - accuracy: 0.3548\n",
      "Epoch 93/100\n",
      "216/216 [==============================] - 3s 13ms/step - loss: 27.0470 - accuracy: 0.3603\n",
      "Epoch 94/100\n",
      "216/216 [==============================] - 3s 13ms/step - loss: 29.3293 - accuracy: 0.3539\n",
      "Epoch 95/100\n",
      "216/216 [==============================] - 3s 13ms/step - loss: 23.5822 - accuracy: 0.3461\n",
      "Epoch 96/100\n",
      "216/216 [==============================] - 3s 13ms/step - loss: 23.6884 - accuracy: 0.3536\n",
      "Epoch 97/100\n",
      "216/216 [==============================] - 3s 13ms/step - loss: 24.0160 - accuracy: 0.3500\n",
      "Epoch 98/100\n",
      "216/216 [==============================] - 3s 13ms/step - loss: 23.7359 - accuracy: 0.3557\n",
      "Epoch 99/100\n",
      "216/216 [==============================] - 3s 13ms/step - loss: 19.5557 - accuracy: 0.3441\n",
      "Epoch 100/100\n",
      "216/216 [==============================] - 3s 12ms/step - loss: 22.2904 - accuracy: 0.3423\n"
     ]
    }
   ],
   "source": [
    "history = model.fit(x,y, epochs=100)"
   ]
  },
  {
   "cell_type": "code",
   "execution_count": 26,
   "id": "61ab3e32-d586-476c-9501-3b1ce12f17e2",
   "metadata": {},
   "outputs": [
    {
     "name": "stderr",
     "output_type": "stream",
     "text": [
      "2022-10-20 00:10:59.285221: W tensorflow/python/util/util.cc:348] Sets are not currently considered sequences, but this may change in the future, so consider avoiding using them.\n"
     ]
    },
    {
     "name": "stdout",
     "output_type": "stream",
     "text": [
      "INFO:tensorflow:Assets written to: ./saved_models/model_2dhe/assets\n"
     ]
    }
   ],
   "source": [
    "model.save('./saved_models/model_2dhe')"
   ]
  },
  {
   "cell_type": "code",
   "execution_count": 28,
   "id": "91fde5fe-27da-4917-b1e5-15846306436f",
   "metadata": {},
   "outputs": [],
   "source": [
    "img = cv2.imread('Plane.jpg',cv2.IMREAD_GRAYSCALE)\n",
    "img = cv2.resize(img,(120,120))\n",
    "img = np.expand_dims(img, axis=0)\n",
    "img = np.expand_dims(img,axis=3)\n",
    "pred = model.predict(img)[0]"
   ]
  },
  {
   "cell_type": "code",
   "execution_count": 30,
   "id": "42ca279c-e066-43fa-95a0-5fd217c56553",
   "metadata": {},
   "outputs": [
    {
     "data": {
      "text/plain": [
       "[<matplotlib.lines.Line2D at 0x7f1a34067670>]"
      ]
     },
     "execution_count": 30,
     "metadata": {},
     "output_type": "execute_result"
    },
    {
     "data": {
      "image/png": "[encoded data removed]",
      "text/plain": [
       "<Figure size 640x480 with 1 Axes>"
      ]
     },
     "metadata": {},
     "output_type": "display_data"
    }
   ],
   "source": [
    "plt.plot(pred/255)"
   ]
  },
  {
   "cell_type": "code",
   "execution_count": null,
   "id": "34c824a6-16de-4d47-9006-c3729d0679d7",
   "metadata": {},
   "outputs": [],
   "source": []
  }
 ],
 "metadata": {
  "kernelspec": {
   "display_name": "Python 3 (ipykernel)",
   "language": "python",
   "name": "python3"
  },
  "language_info": {
   "codemirror_mode": {
    "name": "ipython",
    "version": 3
   },
   "file_extension": ".py",
   "mimetype": "text/x-python",
   "name": "python",
   "nbconvert_exporter": "python",
   "pygments_lexer": "ipython3",
   "version": "3.9.13"
  }
 },
 "nbformat": 4,
 "nbformat_minor": 5
}
