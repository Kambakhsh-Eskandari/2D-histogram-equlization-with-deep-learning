{
 "cells": [
  {
   "cell_type": "code",
   "execution_count": 24,
   "metadata": {},
   "outputs": [],
   "source": [
    "import cv2\n",
    "\n",
    "import tensorflow as tf\n",
    "import os\n",
    "import random\n",
    "import numpy as np\n",
    "\n",
    "from tensorflow.keras import layers\n",
    "from tensorflow.keras.models import Model\n",
    "\n",
    "from tqdm import tqdm\n",
    "\n",
    "# from skimage.io import imread, imshow\n",
    "# from skimage.transform import resize\n",
    " \n",
    "import matplotlib.pyplot as plt\n",
    "\n",
    "# from PIL import Image, ImageOps\n"
   ]
  },
  {
   "cell_type": "code",
   "execution_count": 2,
   "metadata": {},
   "outputs": [
    {
     "name": "stderr",
     "output_type": "stream",
     "text": [
      "2022-11-09 02:44:15.988397: I tensorflow/core/platform/cpu_feature_guard.cc:142] This TensorFlow binary is optimized with oneAPI Deep Neural Network Library (oneDNN) to use the following CPU instructions in performance-critical operations:  SSE4.1 SSE4.2 AVX AVX2 FMA\n",
      "To enable them in other operations, rebuild TensorFlow with the appropriate compiler flags.\n",
      "2022-11-09 02:44:15.989036: I tensorflow/compiler/jit/xla_gpu_device.cc:99] Not creating XLA devices, tf_xla_enable_xla_devices not set\n",
      "2022-11-09 02:44:15.989824: I tensorflow/stream_executor/platform/default/dso_loader.cc:49] Successfully opened dynamic library libcuda.so.1\n",
      "2022-11-09 02:44:16.034149: I tensorflow/stream_executor/cuda/cuda_gpu_executor.cc:941] successful NUMA node read from SysFS had negative value (-1), but there must be at least one NUMA node, so returning NUMA node zero\n",
      "2022-11-09 02:44:16.034313: I tensorflow/core/common_runtime/gpu/gpu_device.cc:1720] Found device 0 with properties: \n",
      "pciBusID: 0000:01:00.0 name: NVIDIA GeForce GTX 1650 computeCapability: 7.5\n",
      "coreClock: 1.56GHz coreCount: 16 deviceMemorySize: 3.81GiB deviceMemoryBandwidth: 119.24GiB/s\n",
      "2022-11-09 02:44:16.034343: I tensorflow/stream_executor/platform/default/dso_loader.cc:49] Successfully opened dynamic library libcudart.so.10.1\n",
      "2022-11-09 02:44:16.035902: I tensorflow/stream_executor/platform/default/dso_loader.cc:49] Successfully opened dynamic library libcublas.so.10\n",
      "2022-11-09 02:44:16.035956: I tensorflow/stream_executor/platform/default/dso_loader.cc:49] Successfully opened dynamic library libcublasLt.so.10\n",
      "2022-11-09 02:44:16.037317: I tensorflow/stream_executor/platform/default/dso_loader.cc:49] Successfully opened dynamic library libcufft.so.10\n",
      "2022-11-09 02:44:16.037577: I tensorflow/stream_executor/platform/default/dso_loader.cc:49] Successfully opened dynamic library libcurand.so.10\n",
      "2022-11-09 02:44:16.039103: I tensorflow/stream_executor/platform/default/dso_loader.cc:49] Successfully opened dynamic library libcusolver.so.10\n",
      "2022-11-09 02:44:16.040006: I tensorflow/stream_executor/platform/default/dso_loader.cc:49] Successfully opened dynamic library libcusparse.so.10\n",
      "2022-11-09 02:44:16.043243: I tensorflow/stream_executor/platform/default/dso_loader.cc:49] Successfully opened dynamic library libcudnn.so.7\n",
      "2022-11-09 02:44:16.043382: I tensorflow/stream_executor/cuda/cuda_gpu_executor.cc:941] successful NUMA node read from SysFS had negative value (-1), but there must be at least one NUMA node, so returning NUMA node zero\n",
      "2022-11-09 02:44:16.043635: I tensorflow/stream_executor/cuda/cuda_gpu_executor.cc:941] successful NUMA node read from SysFS had negative value (-1), but there must be at least one NUMA node, so returning NUMA node zero\n",
      "2022-11-09 02:44:16.043752: I tensorflow/core/common_runtime/gpu/gpu_device.cc:1862] Adding visible gpu devices: 0\n",
      "2022-11-09 02:44:16.043794: I tensorflow/stream_executor/platform/default/dso_loader.cc:49] Successfully opened dynamic library libcudart.so.10.1\n",
      "2022-11-09 02:44:16.582916: I tensorflow/core/common_runtime/gpu/gpu_device.cc:1261] Device interconnect StreamExecutor with strength 1 edge matrix:\n",
      "2022-11-09 02:44:16.582949: I tensorflow/core/common_runtime/gpu/gpu_device.cc:1267]      0 \n",
      "2022-11-09 02:44:16.582956: I tensorflow/core/common_runtime/gpu/gpu_device.cc:1280] 0:   N \n",
      "2022-11-09 02:44:16.583200: I tensorflow/stream_executor/cuda/cuda_gpu_executor.cc:941] successful NUMA node read from SysFS had negative value (-1), but there must be at least one NUMA node, so returning NUMA node zero\n",
      "2022-11-09 02:44:16.583435: I tensorflow/stream_executor/cuda/cuda_gpu_executor.cc:941] successful NUMA node read from SysFS had negative value (-1), but there must be at least one NUMA node, so returning NUMA node zero\n",
      "2022-11-09 02:44:16.583606: I tensorflow/stream_executor/cuda/cuda_gpu_executor.cc:941] successful NUMA node read from SysFS had negative value (-1), but there must be at least one NUMA node, so returning NUMA node zero\n",
      "2022-11-09 02:44:16.583738: I tensorflow/core/common_runtime/gpu/gpu_device.cc:1406] Created TensorFlow device (/job:localhost/replica:0/task:0/device:GPU:0 with 2799 MB memory) -> physical GPU (device: 0, name: NVIDIA GeForce GTX 1650, pci bus id: 0000:01:00.0, compute capability: 7.5)\n"
     ]
    }
   ],
   "source": [
    "# from tensorflow.compat.v1 import ConfigProto\n",
    "# from tensorflow.compat.v1 import InteractiveSession\n",
    "\n",
    "# config = ConfigProto()\n",
    "# config.gpu_options.allow_growth = True\n",
    "# session = InteractiveSession(config=config)"
   ]
  },
  {
   "cell_type": "code",
   "execution_count": 25,
   "metadata": {},
   "outputs": [],
   "source": [
    "def calc_hist(image):\n",
    " \n",
    "  hist = np.zeros(256)\n",
    "\n",
    "  \n",
    "\n",
    "  img_copy = image.copy() \n",
    "  \n",
    "  img_list = list(img_copy.flatten())\n",
    "  \n",
    "  for p in img_list:\n",
    "    hist[p] += 1\n",
    " \n",
    "\n",
    "  return hist"
   ]
  },
  {
   "cell_type": "code",
   "execution_count": 26,
   "metadata": {},
   "outputs": [],
   "source": [
    "def calc_cdf(img):\n",
    "    hist = calc_hist(img)\n",
    "    n = np.sum(hist)\n",
    "    hist_normal = hist / n\n",
    "    cdf = np.cumsum(hist_normal)\n",
    "    return cdf"
   ]
  },
  {
   "cell_type": "code",
   "execution_count": 27,
   "metadata": {},
   "outputs": [],
   "source": [
    "def CLAHE(img, const):\n",
    "    hist = calc_hist(img)\n",
    "    \n",
    "    n = np.sum(hist)\n",
    "    hist_normal = hist / n\n",
    "\n",
    "    output_image=img.copy()\n",
    "    \n",
    "    \n",
    "    hist_new = np.zeros(256,dtype=float)\n",
    "    \n",
    "    max = hist_normal.max()\n",
    "    \n",
    "    for p in range(0,256):\n",
    "\n",
    "        if hist_normal[p] > const*max:\n",
    "            hist_new[p] =  hist_normal[p] - const*max\n",
    "            hist_normal[p] = const *max\n",
    "    \n",
    "    mean = np.mean(hist_new)\n",
    "\n",
    "    hist_normal += mean\n",
    "\n",
    "    cdf_normal = np.cumsum(hist_normal)\n",
    "    transform_map = np.floor(255 * cdf_normal).astype(np.uint8)\n",
    "    \n",
    "    img_list_ = list(output_image.flatten())\n",
    "    eq_img_list_ = [transform_map[p] for p in img_list_]\n",
    "\n",
    "    output_image = np.reshape(np.asarray(eq_img_list_), output_image.shape)\n",
    "\n",
    "\n",
    "    return output_image"
   ]
  },
  {
   "cell_type": "code",
   "execution_count": 28,
   "metadata": {},
   "outputs": [],
   "source": [
    "def post_process(cdf):\n",
    "    cdf_copy = cdf.copy()\n",
    "    for i in range(len(cdf_copy) - 1):\n",
    "        if cdf_copy[i] > cdf_copy[i+1]:\n",
    "            cdf_copy[i+1] = cdf_copy[i]\n",
    "        if cdf_copy[i] > 1:\n",
    "            cdf_copy[i] = 1\n",
    "    return cdf_copy"
   ]
  },
  {
   "cell_type": "code",
   "execution_count": 29,
   "metadata": {},
   "outputs": [
    {
     "name": "stdout",
     "output_type": "stream",
     "text": [
      "Model: \"model_1\"\n",
      "_________________________________________________________________\n",
      "Layer (type)                 Output Shape              Param #   \n",
      "=================================================================\n",
      "input_2 (InputLayer)         [(None, 120, 120, 1)]     0         \n",
      "_________________________________________________________________\n",
      "lambda_1 (Lambda)            (None, 120, 120, 1)       0         \n",
      "_________________________________________________________________\n",
      "conv2d_3 (Conv2D)            (None, 120, 120, 16)      160       \n",
      "_________________________________________________________________\n",
      "batch_normalization_3 (Batch (None, 120, 120, 16)      64        \n",
      "_________________________________________________________________\n",
      "re_lu_3 (ReLU)               (None, 120, 120, 16)      0         \n",
      "_________________________________________________________________\n",
      "max_pooling2d_2 (MaxPooling2 (None, 30, 30, 16)        0         \n",
      "_________________________________________________________________\n",
      "conv2d_4 (Conv2D)            (None, 30, 30, 32)        4640      \n",
      "_________________________________________________________________\n",
      "batch_normalization_4 (Batch (None, 30, 30, 32)        128       \n",
      "_________________________________________________________________\n",
      "re_lu_4 (ReLU)               (None, 30, 30, 32)        0         \n",
      "_________________________________________________________________\n",
      "max_pooling2d_3 (MaxPooling2 (None, 15, 15, 32)        0         \n",
      "_________________________________________________________________\n",
      "conv2d_5 (Conv2D)            (None, 15, 15, 64)        18496     \n",
      "_________________________________________________________________\n",
      "batch_normalization_5 (Batch (None, 15, 15, 64)        256       \n",
      "_________________________________________________________________\n",
      "re_lu_5 (ReLU)               (None, 15, 15, 64)        0         \n",
      "_________________________________________________________________\n",
      "average_pooling2d_1 (Average (None, 7, 7, 64)          0         \n",
      "_________________________________________________________________\n",
      "flatten_1 (Flatten)          (None, 3136)              0         \n",
      "_________________________________________________________________\n",
      "dense_2 (Dense)              (None, 256)               803072    \n",
      "_________________________________________________________________\n",
      "dense_3 (Dense)              (None, 256)               65792     \n",
      "=================================================================\n",
      "Total params: 892,608\n",
      "Trainable params: 892,384\n",
      "Non-trainable params: 224\n",
      "_________________________________________________________________\n"
     ]
    }
   ],
   "source": [
    "IMG_WIDTH = 120\n",
    "IMG_HEIGHT = 120\n",
    "IMG_CHANNELS = 1\n",
    "\n",
    "\n",
    "# model = tf.keras.models.Sequential([\n",
    "\n",
    "#     tf.keras.layers.Input((IMG_WIDTH,IMG_HEIGHT,IMG_CHANNELS)),\n",
    "#     # tf.keras.layers.Lambda(lambda x: x / 255),\n",
    "\n",
    "#     tf.keras.layers.Conv2D(filters = 16, kernel_size = (3,3), padding='same'),\n",
    "#     tf.keras.layers.BatchNormalization(),\n",
    "#     tf.keras.layers.Activation('relu'),\n",
    "#     tf.keras.layers.MaxPooling2D(pool_size=(4,4), strides=(4,4)),\n",
    "\n",
    "\n",
    "#     tf.keras.layers.Conv2D(filters = 32, kernel_size=(3,3), padding='same'),\n",
    "#     tf.keras.layers.BatchNormalization(),\n",
    "#     tf.keras.layers.Activation('relu'),\n",
    "#     tf.keras.layers.MaxPooling2D(pool_size=(2,2), strides=(2,2)),\n",
    "\n",
    "#     tf.keras.layers.Conv2D(filters = 64, kernel_size = (3,3), padding='same'),\n",
    "#     tf.keras.layers.BatchNormalization(),\n",
    "#     tf.keras.layers.Activation('relu'),\n",
    "#     tf.keras.layers.AveragePooling2D(pool_size=(2,2), strides=(2,2)),\n",
    "\n",
    "\n",
    "#     tf.keras.layers.Flatten(),\n",
    "\n",
    "#     tf.keras.layers.Dense(256),\n",
    "#     tf.keras.layers.Dense(256)\n",
    "    \n",
    "# ])\n",
    "\n",
    "# first layer\n",
    "# model = tf.keras.models.Sequential()\n",
    "# model.add(layers.Input((IMG_WIDTH,IMG_HEIGHT,IMG_CHANNELS)))\n",
    "# model.add(layers.Lambda(lambda x: x / 255))\n",
    "# model.add(layers.Conv2D(16, (3,3), padding='same', activation = 'relu'))\n",
    "# # model.add(layers.BatchNormalization())\n",
    "# # model.add(layers.Activation('relu'))\n",
    "# model.add(layers.MaxPooling2D(pool_size=(4,4), strides=(4,4)))\n",
    "\n",
    "# # second layer\n",
    "# model.add(layers.Conv2D(32, (3,3), padding='same',activation='relu'))\n",
    "# # model.add(layers.BatchNormalization())\n",
    "# # model.add(layers.Activation('relu'))\n",
    "# model.add(layers.MaxPooling2D(pool_size=(2,2), strides=(2,2)))\n",
    "\n",
    "# # third layer\n",
    "# model.add(layers.Conv2D(64, (3,3), padding='same', activation='relu'))\n",
    "# # model.add(layers.BatchNormalization())\n",
    "# # model.add(layers.Activation('relu'))\n",
    "# model.add(layers.AveragePooling2D(pool_size=(2,2), strides=(2,2)))\n",
    "\n",
    "# # flatten\n",
    "# model.add(layers.Flatten())\n",
    "\n",
    "# # FCL\n",
    "# model.add(layers.Dense(256,input_shape=[256], activation = 'relu'))\n",
    "# model.add(layers.Dense(256, input_shape=[256]))\n",
    "\n",
    "\n",
    "input = layers.Input(((IMG_WIDTH,IMG_HEIGHT,IMG_CHANNELS)))\n",
    "normalize = layers.Lambda(lambda x: x/ 255)(input)\n",
    "\n",
    "## first layer\n",
    "c1 = layers.Conv2D(16, (3,3), padding='same')(normalize)\n",
    "b1 = layers.BatchNormalization()(c1)\n",
    "r1 = layers.ReLU()(b1)\n",
    "p1 = layers.MaxPooling2D(pool_size=(4,4), strides=(4,4))(r1)\n",
    "\n",
    "## second layer\n",
    "c2 = layers.Conv2D(32, (3,3), padding='same')(p1)\n",
    "b2 = layers.BatchNormalization()(c2)\n",
    "r2 = layers.ReLU()(b2)\n",
    "p2 = layers.MaxPooling2D(pool_size=(2,2), strides=(2,2))(r2)\n",
    "\n",
    "## third layer\n",
    "c3 = layers.Conv2D(64, (3,3), padding='same')(p2)\n",
    "b3 = layers.BatchNormalization()(c3)\n",
    "r3 = layers.ReLU()(b3)\n",
    "p3 = layers.AveragePooling2D(pool_size=(2,2), strides=(2,2))(r3)\n",
    "\n",
    "## flatten layer\n",
    "flatten = layers.Flatten()(p3)\n",
    "\n",
    "## FCLs\n",
    "fc1 = layers.Dense(256, activation = 'relu')(flatten)\n",
    "fc2 = layers.Dense(256)(fc1)\n",
    "\n",
    "model = Model(inputs=input, outputs = fc2)\n",
    "\n",
    "\n",
    "\n",
    "\n",
    "model.summary()"
   ]
  },
  {
   "cell_type": "code",
   "execution_count": 9,
   "metadata": {},
   "outputs": [],
   "source": [
    "IMG_SIZE = 120\n",
    "\n",
    "def load_images_from_folder(folder):\n",
    "    x = []\n",
    "    y = []\n",
    "    for filename in tqdm(os.listdir(folder)):\n",
    "        image = cv2.imread(os.path.join(folder,filename), cv2.IMREAD_GRAYSCALE)\n",
    "        image = cv2.resize(image, (IMG_SIZE,IMG_SIZE))\n",
    "        \n",
    "        \n",
    "        x.append(image)\n",
    "        y.append(calc_cdf(image))\n",
    "            \n",
    "    return x,y"
   ]
  },
  {
   "cell_type": "code",
   "execution_count": 10,
   "metadata": {},
   "outputs": [
    {
     "name": "stderr",
     "output_type": "stream",
     "text": [
      "100%|█████████████████████████████████████████████████████████████████████████████| 6899/6899 [01:03<00:00, 107.98it/s]\n"
     ]
    }
   ],
   "source": [
    "X,Y = load_images_from_folder('natural_images/')\n"
   ]
  },
  {
   "cell_type": "code",
   "execution_count": 11,
   "metadata": {},
   "outputs": [],
   "source": [
    "x = np.array(X)\n",
    "y = np.array(Y, np.float64)"
   ]
  },
  {
   "cell_type": "code",
   "execution_count": 12,
   "metadata": {},
   "outputs": [],
   "source": [
    "x = np.expand_dims(x, axis=3)"
   ]
  },
  {
   "cell_type": "code",
   "execution_count": 13,
   "metadata": {},
   "outputs": [
    {
     "data": {
      "text/plain": [
       "<matplotlib.image.AxesImage at 0x22a0f685cd0>"
      ]
     },
     "execution_count": 13,
     "metadata": {},
     "output_type": "execute_result"
    },
    {
     "data": {
      "image/png": "[encoded data removed]",
      "text/plain": [
       "<Figure size 640x480 with 1 Axes>"
      ]
     },
     "metadata": {},
     "output_type": "display_data"
    }
   ],
   "source": [
    "plt.imshow(x[5000], cmap='gray')"
   ]
  },
  {
   "cell_type": "code",
   "execution_count": 14,
   "metadata": {},
   "outputs": [
    {
     "data": {
      "text/plain": [
       "[<matplotlib.lines.Line2D at 0x22a14bf8e80>]"
      ]
     },
     "execution_count": 14,
     "metadata": {},
     "output_type": "execute_result"
    },
    {
     "data": {
      "image/png": "[encoded data removed]",
      "text/plain": [
       "<Figure size 640x480 with 1 Axes>"
      ]
     },
     "metadata": {},
     "output_type": "display_data"
    }
   ],
   "source": [
    "plt.plot(y[5000])"
   ]
  },
  {
   "cell_type": "code",
   "execution_count": 15,
   "metadata": {},
   "outputs": [],
   "source": [
    "#compiling model\n",
    "model.compile(optimizer='adam', loss='mean_squared_error', metrics=['accuracy'])"
   ]
  },
  {
   "cell_type": "code",
   "execution_count": 16,
   "metadata": {},
   "outputs": [
    {
     "name": "stdout",
     "output_type": "stream",
     "text": [
      "Epoch 1/100\n",
      "216/216 [==============================] - 21s 14ms/step - loss: 0.0285 - accuracy: 0.1102\n",
      "Epoch 2/100\n",
      "216/216 [==============================] - 3s 13ms/step - loss: 0.0055 - accuracy: 0.2287\n",
      "Epoch 3/100\n",
      "216/216 [==============================] - 3s 14ms/step - loss: 0.0043 - accuracy: 0.2779\n",
      "Epoch 4/100\n",
      "216/216 [==============================] - 3s 14ms/step - loss: 0.0037 - accuracy: 0.3118\n",
      "Epoch 5/100\n",
      "216/216 [==============================] - 3s 14ms/step - loss: 0.0036 - accuracy: 0.3218\n",
      "Epoch 6/100\n",
      "216/216 [==============================] - 3s 14ms/step - loss: 0.0027 - accuracy: 0.3286\n",
      "Epoch 7/100\n",
      "216/216 [==============================] - 3s 14ms/step - loss: 0.0028 - accuracy: 0.3324\n",
      "Epoch 8/100\n",
      "216/216 [==============================] - 3s 14ms/step - loss: 0.0029 - accuracy: 0.3360\n",
      "Epoch 9/100\n",
      "216/216 [==============================] - 3s 14ms/step - loss: 0.0026 - accuracy: 0.3380\n",
      "Epoch 10/100\n",
      "216/216 [==============================] - 3s 14ms/step - loss: 0.0026 - accuracy: 0.3390\n",
      "Epoch 11/100\n",
      "216/216 [==============================] - 3s 14ms/step - loss: 0.0021 - accuracy: 0.3393\n",
      "Epoch 12/100\n",
      "216/216 [==============================] - 3s 14ms/step - loss: 0.0021 - accuracy: 0.3411\n",
      "Epoch 13/100\n",
      "216/216 [==============================] - 3s 14ms/step - loss: 0.0020 - accuracy: 0.3373\n",
      "Epoch 14/100\n",
      "216/216 [==============================] - 3s 14ms/step - loss: 0.0021 - accuracy: 0.3322\n",
      "Epoch 15/100\n",
      "216/216 [==============================] - 3s 14ms/step - loss: 0.0019 - accuracy: 0.3360\n",
      "Epoch 16/100\n",
      "216/216 [==============================] - 3s 14ms/step - loss: 0.0018 - accuracy: 0.3347\n",
      "Epoch 17/100\n",
      "216/216 [==============================] - 3s 14ms/step - loss: 0.0016 - accuracy: 0.3295\n",
      "Epoch 18/100\n",
      "216/216 [==============================] - 3s 14ms/step - loss: 0.0015 - accuracy: 0.3292\n",
      "Epoch 19/100\n",
      "216/216 [==============================] - 3s 14ms/step - loss: 0.0015 - accuracy: 0.3258\n",
      "Epoch 20/100\n",
      "216/216 [==============================] - 3s 14ms/step - loss: 0.0013 - accuracy: 0.3298\n",
      "Epoch 21/100\n",
      "216/216 [==============================] - 3s 14ms/step - loss: 0.0015 - accuracy: 0.3298\n",
      "Epoch 22/100\n",
      "216/216 [==============================] - 3s 14ms/step - loss: 0.0017 - accuracy: 0.3215\n",
      "Epoch 23/100\n",
      "216/216 [==============================] - 3s 14ms/step - loss: 0.0015 - accuracy: 0.3269\n",
      "Epoch 24/100\n",
      "216/216 [==============================] - 3s 14ms/step - loss: 0.0013 - accuracy: 0.3222\n",
      "Epoch 25/100\n",
      "216/216 [==============================] - 3s 14ms/step - loss: 0.0013 - accuracy: 0.3295\n",
      "Epoch 26/100\n",
      "216/216 [==============================] - 3s 14ms/step - loss: 0.0011 - accuracy: 0.3271\n",
      "Epoch 27/100\n",
      "216/216 [==============================] - 3s 14ms/step - loss: 0.0012 - accuracy: 0.3245\n",
      "Epoch 28/100\n",
      "216/216 [==============================] - 3s 14ms/step - loss: 0.0011 - accuracy: 0.3311\n",
      "Epoch 29/100\n",
      "216/216 [==============================] - 3s 14ms/step - loss: 0.0013 - accuracy: 0.3334\n",
      "Epoch 30/100\n",
      "216/216 [==============================] - 3s 14ms/step - loss: 0.0011 - accuracy: 0.3299\n",
      "Epoch 31/100\n",
      "216/216 [==============================] - 3s 14ms/step - loss: 0.0011 - accuracy: 0.3285\n",
      "Epoch 32/100\n",
      "216/216 [==============================] - 3s 14ms/step - loss: 0.0010 - accuracy: 0.3299\n",
      "Epoch 33/100\n",
      "216/216 [==============================] - 3s 14ms/step - loss: 0.0011 - accuracy: 0.3292\n",
      "Epoch 34/100\n",
      "216/216 [==============================] - 3s 14ms/step - loss: 9.9902e-04 - accuracy: 0.3358\n",
      "Epoch 35/100\n",
      "216/216 [==============================] - 3s 15ms/step - loss: 0.0010 - accuracy: 0.3319\n",
      "Epoch 36/100\n",
      "216/216 [==============================] - 3s 15ms/step - loss: 9.9126e-04 - accuracy: 0.3363\n",
      "Epoch 37/100\n",
      "216/216 [==============================] - 3s 14ms/step - loss: 8.9187e-04 - accuracy: 0.3358\n",
      "Epoch 38/100\n",
      "216/216 [==============================] - 3s 15ms/step - loss: 0.0011 - accuracy: 0.3366\n",
      "Epoch 39/100\n",
      "216/216 [==============================] - 3s 14ms/step - loss: 9.7884e-04 - accuracy: 0.3400\n",
      "Epoch 40/100\n",
      "216/216 [==============================] - 3s 14ms/step - loss: 9.5557e-04 - accuracy: 0.3398\n",
      "Epoch 41/100\n",
      "216/216 [==============================] - 3s 14ms/step - loss: 9.7603e-04 - accuracy: 0.3380\n",
      "Epoch 42/100\n",
      "216/216 [==============================] - 3s 14ms/step - loss: 8.9518e-04 - accuracy: 0.3422\n",
      "Epoch 43/100\n",
      "216/216 [==============================] - 3s 14ms/step - loss: 9.5178e-04 - accuracy: 0.3408\n",
      "Epoch 44/100\n",
      "216/216 [==============================] - 3s 15ms/step - loss: 8.6060e-04 - accuracy: 0.3403\n",
      "Epoch 45/100\n",
      "216/216 [==============================] - 3s 15ms/step - loss: 9.0370e-04 - accuracy: 0.3385\n",
      "Epoch 46/100\n",
      "216/216 [==============================] - 3s 14ms/step - loss: 7.7447e-04 - accuracy: 0.3347\n",
      "Epoch 47/100\n",
      "216/216 [==============================] - 3s 14ms/step - loss: 8.6186e-04 - accuracy: 0.3396\n",
      "Epoch 48/100\n",
      "216/216 [==============================] - 3s 14ms/step - loss: 7.2623e-04 - accuracy: 0.3419\n",
      "Epoch 49/100\n",
      "216/216 [==============================] - 3s 14ms/step - loss: 8.0291e-04 - accuracy: 0.3402\n",
      "Epoch 50/100\n",
      "216/216 [==============================] - 3s 14ms/step - loss: 7.2368e-04 - accuracy: 0.3370\n",
      "Epoch 51/100\n",
      "216/216 [==============================] - 3s 14ms/step - loss: 8.2020e-04 - accuracy: 0.3403\n",
      "Epoch 52/100\n",
      "216/216 [==============================] - 3s 14ms/step - loss: 7.6215e-04 - accuracy: 0.3376\n",
      "Epoch 53/100\n",
      "216/216 [==============================] - 3s 14ms/step - loss: 7.7182e-04 - accuracy: 0.3379\n",
      "Epoch 54/100\n",
      "216/216 [==============================] - 3s 14ms/step - loss: 7.9253e-04 - accuracy: 0.3370\n",
      "Epoch 55/100\n",
      "216/216 [==============================] - 3s 14ms/step - loss: 7.3649e-04 - accuracy: 0.3321\n",
      "Epoch 56/100\n",
      "216/216 [==============================] - 3s 15ms/step - loss: 7.6300e-04 - accuracy: 0.3372\n",
      "Epoch 57/100\n",
      "216/216 [==============================] - 3s 15ms/step - loss: 7.0919e-04 - accuracy: 0.3414\n",
      "Epoch 58/100\n",
      "216/216 [==============================] - 3s 14ms/step - loss: 6.1458e-04 - accuracy: 0.3392\n",
      "Epoch 59/100\n",
      "216/216 [==============================] - 3s 14ms/step - loss: 6.2967e-04 - accuracy: 0.3427\n",
      "Epoch 60/100\n",
      "216/216 [==============================] - 3s 14ms/step - loss: 5.7793e-04 - accuracy: 0.3429\n",
      "Epoch 61/100\n",
      "216/216 [==============================] - 3s 14ms/step - loss: 7.0957e-04 - accuracy: 0.3351\n",
      "Epoch 62/100\n",
      "216/216 [==============================] - 3s 14ms/step - loss: 5.7979e-04 - accuracy: 0.3421\n",
      "Epoch 63/100\n",
      "216/216 [==============================] - 3s 14ms/step - loss: 6.3558e-04 - accuracy: 0.3425\n",
      "Epoch 64/100\n",
      "216/216 [==============================] - 3s 14ms/step - loss: 5.8881e-04 - accuracy: 0.3351\n",
      "Epoch 65/100\n",
      "216/216 [==============================] - 3s 14ms/step - loss: 6.2662e-04 - accuracy: 0.3350\n",
      "Epoch 66/100\n",
      "216/216 [==============================] - 3s 14ms/step - loss: 5.8487e-04 - accuracy: 0.3334\n",
      "Epoch 67/100\n",
      "216/216 [==============================] - 3s 14ms/step - loss: 6.1527e-04 - accuracy: 0.3316\n",
      "Epoch 68/100\n",
      "216/216 [==============================] - 3s 14ms/step - loss: 6.1572e-04 - accuracy: 0.3416\n",
      "Epoch 69/100\n",
      "216/216 [==============================] - 3s 14ms/step - loss: 6.1784e-04 - accuracy: 0.3427\n",
      "Epoch 70/100\n",
      "216/216 [==============================] - 3s 14ms/step - loss: 5.2446e-04 - accuracy: 0.3427\n",
      "Epoch 71/100\n",
      "216/216 [==============================] - 3s 15ms/step - loss: 4.9698e-04 - accuracy: 0.3415\n",
      "Epoch 72/100\n",
      "216/216 [==============================] - 3s 16ms/step - loss: 5.3449e-04 - accuracy: 0.3382\n",
      "Epoch 73/100\n",
      "216/216 [==============================] - 3s 14ms/step - loss: 5.1559e-04 - accuracy: 0.3396\n",
      "Epoch 74/100\n",
      "216/216 [==============================] - 3s 14ms/step - loss: 5.9583e-04 - accuracy: 0.3435\n",
      "Epoch 75/100\n",
      "216/216 [==============================] - 3s 14ms/step - loss: 5.2443e-04 - accuracy: 0.3398\n",
      "Epoch 76/100\n",
      "216/216 [==============================] - 3s 14ms/step - loss: 5.0619e-04 - accuracy: 0.3428\n",
      "Epoch 77/100\n",
      "216/216 [==============================] - 3s 14ms/step - loss: 5.6932e-04 - accuracy: 0.3373\n",
      "Epoch 78/100\n",
      "216/216 [==============================] - 3s 14ms/step - loss: 5.3528e-04 - accuracy: 0.3353\n"
     ]
    },
    {
     "name": "stdout",
     "output_type": "stream",
     "text": [
      "Epoch 79/100\n",
      "216/216 [==============================] - 3s 14ms/step - loss: 5.1874e-04 - accuracy: 0.3435\n",
      "Epoch 80/100\n",
      "216/216 [==============================] - 3s 14ms/step - loss: 4.6643e-04 - accuracy: 0.3431\n",
      "Epoch 81/100\n",
      "216/216 [==============================] - 3s 14ms/step - loss: 5.3456e-04 - accuracy: 0.3437\n",
      "Epoch 82/100\n",
      "216/216 [==============================] - 3s 14ms/step - loss: 4.5284e-04 - accuracy: 0.3428\n",
      "Epoch 83/100\n",
      "216/216 [==============================] - 3s 15ms/step - loss: 4.9332e-04 - accuracy: 0.3341\n",
      "Epoch 84/100\n",
      "216/216 [==============================] - 3s 15ms/step - loss: 4.8143e-04 - accuracy: 0.3412\n",
      "Epoch 85/100\n",
      "216/216 [==============================] - 3s 15ms/step - loss: 4.3140e-04 - accuracy: 0.3440\n",
      "Epoch 86/100\n",
      "216/216 [==============================] - 3s 15ms/step - loss: 4.4949e-04 - accuracy: 0.3437\n",
      "Epoch 87/100\n",
      "216/216 [==============================] - 3s 15ms/step - loss: 4.7542e-04 - accuracy: 0.3354\n",
      "Epoch 88/100\n",
      "216/216 [==============================] - 3s 15ms/step - loss: 3.9707e-04 - accuracy: 0.3464\n",
      "Epoch 89/100\n",
      "216/216 [==============================] - 3s 14ms/step - loss: 4.2064e-04 - accuracy: 0.3432\n",
      "Epoch 90/100\n",
      "216/216 [==============================] - 3s 15ms/step - loss: 4.4735e-04 - accuracy: 0.3414\n",
      "Epoch 91/100\n",
      "216/216 [==============================] - 3s 15ms/step - loss: 4.5752e-04 - accuracy: 0.3441\n",
      "Epoch 92/100\n",
      "216/216 [==============================] - 3s 14ms/step - loss: 4.3378e-04 - accuracy: 0.3473\n",
      "Epoch 93/100\n",
      "216/216 [==============================] - 3s 15ms/step - loss: 3.9590e-04 - accuracy: 0.3424\n",
      "Epoch 94/100\n",
      "216/216 [==============================] - 3s 15ms/step - loss: 4.4424e-04 - accuracy: 0.3457\n",
      "Epoch 95/100\n",
      "216/216 [==============================] - 3s 15ms/step - loss: 4.0070e-04 - accuracy: 0.3477\n",
      "Epoch 96/100\n",
      "216/216 [==============================] - 3s 15ms/step - loss: 3.7675e-04 - accuracy: 0.3450\n",
      "Epoch 97/100\n",
      "216/216 [==============================] - 3s 15ms/step - loss: 4.1764e-04 - accuracy: 0.3418\n",
      "Epoch 98/100\n",
      "216/216 [==============================] - 3s 15ms/step - loss: 4.3536e-04 - accuracy: 0.3467\n",
      "Epoch 99/100\n",
      "216/216 [==============================] - 3s 14ms/step - loss: 4.1170e-04 - accuracy: 0.3460\n",
      "Epoch 100/100\n",
      "216/216 [==============================] - 3s 15ms/step - loss: 3.4986e-04 - accuracy: 0.3518\n"
     ]
    }
   ],
   "source": [
    "history = model.fit(x,y, epochs=100)"
   ]
  },
  {
   "cell_type": "code",
   "execution_count": 20,
   "metadata": {},
   "outputs": [],
   "source": [
    "img = cv2.imread('natural_images/dog_0001.jpg',cv2.IMREAD_GRAYSCALE)\n",
    "img = cv2.resize(img,(120,120))\n",
    "img = np.expand_dims(img, axis=0)\n",
    "img = np.expand_dims(img,axis=3)\n",
    "pred = model.predict(img)[0]\n",
    "pred = post_process(pred)"
   ]
  },
  {
   "cell_type": "code",
   "execution_count": 18,
   "metadata": {},
   "outputs": [
    {
     "data": {
      "text/plain": [
       "(1, 120, 120, 1)"
      ]
     },
     "execution_count": 18,
     "metadata": {},
     "output_type": "execute_result"
    }
   ],
   "source": [
    "img.shape"
   ]
  },
  {
   "cell_type": "code",
   "execution_count": 23,
   "metadata": {},
   "outputs": [
    {
     "data": {
      "text/plain": [
       "<matplotlib.legend.Legend at 0x22acac41610>"
      ]
     },
     "execution_count": 23,
     "metadata": {},
     "output_type": "execute_result"
    },
    {
     "data": {
      "image/png": "[encoded data removed]",
      "text/plain": [
       "<Figure size 640x480 with 1 Axes>"
      ]
     },
     "metadata": {},
     "output_type": "display_data"
    }
   ],
   "source": [
    "plt.plot(pred, label = 'predicted')\n",
    "plt.plot(calc_cdf(img), label = 'computed')\n",
    "plt.legend()"
   ]
  },
  {
   "cell_type": "code",
   "execution_count": 19,
   "metadata": {},
   "outputs": [],
   "source": [
    "pred = post_process(pred)"
   ]
  },
  {
   "cell_type": "code",
   "execution_count": 20,
   "metadata": {},
   "outputs": [
    {
     "data": {
      "text/plain": [
       "1.0054699"
      ]
     },
     "execution_count": 20,
     "metadata": {},
     "output_type": "execute_result"
    }
   ],
   "source": [
    "pred.max()"
   ]
  },
  {
   "cell_type": "code",
   "execution_count": 17,
   "metadata": {},
   "outputs": [
    {
     "data": {
      "image/png": "[encoded data removed]",
      "text/plain": [
       "<Figure size 800x500 with 1 Axes>"
      ]
     },
     "metadata": {},
     "output_type": "display_data"
    }
   ],
   "source": [
    "import pandas as pd\n",
    "pd.DataFrame(history.history).plot(figsize=(8,5))\n",
    "plt.xlabel('epoch')\n",
    "plt.grid(True)\n",
    "plt.gca().set_ylim(0,0.5)\n",
    "plt.show()"
   ]
  },
  {
   "cell_type": "code",
   "execution_count": null,
   "metadata": {},
   "outputs": [],
   "source": []
  }
 ],
 "metadata": {
  "kernelspec": {
   "display_name": "Python 3 (ipykernel)",
   "language": "python",
   "name": "python3"
  },
  "language_info": {
   "codemirror_mode": {
    "name": "ipython",
    "version": 3
   },
   "file_extension": ".py",
   "mimetype": "text/x-python",
   "name": "python",
   "nbconvert_exporter": "python",
   "pygments_lexer": "ipython3",
   "version": "3.9.15"
  },
  "vscode": {
   "interpreter": {
    "hash": "93473568ae4d41b9f0acd9ede63bf6b8e304b1daac818dad23ee1108af865885"
   }
  }
 },
 "nbformat": 4,
 "nbformat_minor": 4
}
